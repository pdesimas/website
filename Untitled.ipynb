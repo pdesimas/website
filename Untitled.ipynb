{
 "cells": [
  {
   "cell_type": "code",
   "execution_count": 1,
   "id": "daa3d953-e259-4f2c-8fcc-8406348bd87f",
   "metadata": {},
   "outputs": [
    {
     "name": "stdout",
     "output_type": "stream",
     "text": [
      "Welcome to the Band Name Generator.\n"
     ]
    },
    {
     "name": "stdin",
     "output_type": "stream",
     "text": [
      "What's name of the city you grew up in?\n",
      "  Warwick\n",
      "What's your pet's name?\n",
      "  Pumpkin\n"
     ]
    },
    {
     "name": "stdout",
     "output_type": "stream",
     "text": [
      "Your band name could be Warwick Pumpkin\n"
     ]
    }
   ],
   "source": [
    "#Band Name Generator\n",
    "\n",
    "print(\"Welcome to the Band Name Generator.\")\n",
    "street = input(\"What's name of the city you grew up in?\\n \")\n",
    "pet = input(\"What's your pet's name?\\n \")\n",
    "print(\"Your band name could be \" + street + \" \" + pet!)"
   ]
  },
  {
   "cell_type": "code",
   "execution_count": null,
   "id": "728be013-2356-4931-bd4c-d5ff9710394e",
   "metadata": {},
   "outputs": [],
   "source": []
  }
 ],
 "metadata": {
  "kernelspec": {
   "display_name": "Python 3 (ipykernel)",
   "language": "python",
   "name": "python3"
  },
  "language_info": {
   "codemirror_mode": {
    "name": "ipython",
    "version": 3
   },
   "file_extension": ".py",
   "mimetype": "text/x-python",
   "name": "python",
   "nbconvert_exporter": "python",
   "pygments_lexer": "ipython3",
   "version": "3.9.13"
  }
 },
 "nbformat": 4,
 "nbformat_minor": 5
}
